{
 "cells": [
  {
   "cell_type": "code",
   "execution_count": 1,
   "metadata": {},
   "outputs": [
    {
     "name": "stderr",
     "output_type": "stream",
     "text": [
      "Using TensorFlow backend.\n"
     ]
    }
   ],
   "source": [
    "import tensorflow as tf\n",
    "import keras\n",
    "\n",
    "import pandas as pd\n",
    "import numpy as np\n",
    "import matplotlib.pyplot as plt"
   ]
  },
  {
   "cell_type": "code",
   "execution_count": 2,
   "metadata": {},
   "outputs": [],
   "source": [
    "# Hyperparams if GPU is available\n",
    "if tf.test.is_gpu_available():\n",
    "    BATCH_SIZE = 512  # Number of examples used in each iteration\n",
    "    EPOCHS = 5  # Number of passes through entire dataset\n",
    "    MAX_LEN = 75  # Max length of review (in words)\n",
    "    EMBEDDING = 40  # Dimension of word embedding vector\n",
    "\n",
    "    \n",
    "# Hyperparams for CPU training\n",
    "else:\n",
    "    BATCH_SIZE = 32\n",
    "    EPOCHS = 5\n",
    "    MAX_LEN = 75\n",
    "    EMBEDDING = 20"
   ]
  },
  {
   "cell_type": "code",
   "execution_count": 3,
   "metadata": {},
   "outputs": [],
   "source": [
    "data = pd.read_csv(\"ner_dataset.csv\", encoding='latin1')"
   ]
  },
  {
   "cell_type": "code",
   "execution_count": 4,
   "metadata": {},
   "outputs": [
    {
     "data": {
      "text/html": [
       "<div>\n",
       "<style scoped>\n",
       "    .dataframe tbody tr th:only-of-type {\n",
       "        vertical-align: middle;\n",
       "    }\n",
       "\n",
       "    .dataframe tbody tr th {\n",
       "        vertical-align: top;\n",
       "    }\n",
       "\n",
       "    .dataframe thead th {\n",
       "        text-align: right;\n",
       "    }\n",
       "</style>\n",
       "<table border=\"1\" class=\"dataframe\">\n",
       "  <thead>\n",
       "    <tr style=\"text-align: right;\">\n",
       "      <th></th>\n",
       "      <th>Sentence #</th>\n",
       "      <th>Word</th>\n",
       "      <th>POS</th>\n",
       "      <th>Tag</th>\n",
       "    </tr>\n",
       "  </thead>\n",
       "  <tbody>\n",
       "    <tr>\n",
       "      <th>0</th>\n",
       "      <td>Sentence: 1</td>\n",
       "      <td>Thousands</td>\n",
       "      <td>NNS</td>\n",
       "      <td>O</td>\n",
       "    </tr>\n",
       "    <tr>\n",
       "      <th>1</th>\n",
       "      <td>NaN</td>\n",
       "      <td>of</td>\n",
       "      <td>IN</td>\n",
       "      <td>O</td>\n",
       "    </tr>\n",
       "    <tr>\n",
       "      <th>2</th>\n",
       "      <td>NaN</td>\n",
       "      <td>demonstrators</td>\n",
       "      <td>NNS</td>\n",
       "      <td>O</td>\n",
       "    </tr>\n",
       "    <tr>\n",
       "      <th>3</th>\n",
       "      <td>NaN</td>\n",
       "      <td>have</td>\n",
       "      <td>VBP</td>\n",
       "      <td>O</td>\n",
       "    </tr>\n",
       "    <tr>\n",
       "      <th>4</th>\n",
       "      <td>NaN</td>\n",
       "      <td>marched</td>\n",
       "      <td>VBN</td>\n",
       "      <td>O</td>\n",
       "    </tr>\n",
       "  </tbody>\n",
       "</table>\n",
       "</div>"
      ],
      "text/plain": [
       "    Sentence #           Word  POS Tag\n",
       "0  Sentence: 1      Thousands  NNS   O\n",
       "1          NaN             of   IN   O\n",
       "2          NaN  demonstrators  NNS   O\n",
       "3          NaN           have  VBP   O\n",
       "4          NaN        marched  VBN   O"
      ]
     },
     "execution_count": 4,
     "metadata": {},
     "output_type": "execute_result"
    }
   ],
   "source": [
    "data.head()"
   ]
  },
  {
   "cell_type": "code",
   "execution_count": 5,
   "metadata": {},
   "outputs": [
    {
     "data": {
      "text/plain": [
       "(1048575, 4)"
      ]
     },
     "execution_count": 5,
     "metadata": {},
     "output_type": "execute_result"
    }
   ],
   "source": [
    "data.shape"
   ]
  },
  {
   "cell_type": "code",
   "execution_count": 6,
   "metadata": {},
   "outputs": [],
   "source": [
    "data = data.fillna(method='ffill')"
   ]
  },
  {
   "cell_type": "code",
   "execution_count": 7,
   "metadata": {},
   "outputs": [
    {
     "data": {
      "text/html": [
       "<div>\n",
       "<style scoped>\n",
       "    .dataframe tbody tr th:only-of-type {\n",
       "        vertical-align: middle;\n",
       "    }\n",
       "\n",
       "    .dataframe tbody tr th {\n",
       "        vertical-align: top;\n",
       "    }\n",
       "\n",
       "    .dataframe thead th {\n",
       "        text-align: right;\n",
       "    }\n",
       "</style>\n",
       "<table border=\"1\" class=\"dataframe\">\n",
       "  <thead>\n",
       "    <tr style=\"text-align: right;\">\n",
       "      <th></th>\n",
       "      <th>Sentence #</th>\n",
       "      <th>Word</th>\n",
       "      <th>POS</th>\n",
       "      <th>Tag</th>\n",
       "    </tr>\n",
       "  </thead>\n",
       "  <tbody>\n",
       "    <tr>\n",
       "      <th>0</th>\n",
       "      <td>Sentence: 1</td>\n",
       "      <td>Thousands</td>\n",
       "      <td>NNS</td>\n",
       "      <td>O</td>\n",
       "    </tr>\n",
       "    <tr>\n",
       "      <th>1</th>\n",
       "      <td>Sentence: 1</td>\n",
       "      <td>of</td>\n",
       "      <td>IN</td>\n",
       "      <td>O</td>\n",
       "    </tr>\n",
       "    <tr>\n",
       "      <th>2</th>\n",
       "      <td>Sentence: 1</td>\n",
       "      <td>demonstrators</td>\n",
       "      <td>NNS</td>\n",
       "      <td>O</td>\n",
       "    </tr>\n",
       "    <tr>\n",
       "      <th>3</th>\n",
       "      <td>Sentence: 1</td>\n",
       "      <td>have</td>\n",
       "      <td>VBP</td>\n",
       "      <td>O</td>\n",
       "    </tr>\n",
       "    <tr>\n",
       "      <th>4</th>\n",
       "      <td>Sentence: 1</td>\n",
       "      <td>marched</td>\n",
       "      <td>VBN</td>\n",
       "      <td>O</td>\n",
       "    </tr>\n",
       "  </tbody>\n",
       "</table>\n",
       "</div>"
      ],
      "text/plain": [
       "    Sentence #           Word  POS Tag\n",
       "0  Sentence: 1      Thousands  NNS   O\n",
       "1  Sentence: 1             of   IN   O\n",
       "2  Sentence: 1  demonstrators  NNS   O\n",
       "3  Sentence: 1           have  VBP   O\n",
       "4  Sentence: 1        marched  VBN   O"
      ]
     },
     "execution_count": 7,
     "metadata": {},
     "output_type": "execute_result"
    }
   ],
   "source": [
    "data.head()"
   ]
  },
  {
   "cell_type": "code",
   "execution_count": 8,
   "metadata": {},
   "outputs": [
    {
     "data": {
      "text/html": [
       "<div>\n",
       "<style scoped>\n",
       "    .dataframe tbody tr th:only-of-type {\n",
       "        vertical-align: middle;\n",
       "    }\n",
       "\n",
       "    .dataframe tbody tr th {\n",
       "        vertical-align: top;\n",
       "    }\n",
       "\n",
       "    .dataframe thead th {\n",
       "        text-align: right;\n",
       "    }\n",
       "</style>\n",
       "<table border=\"1\" class=\"dataframe\">\n",
       "  <thead>\n",
       "    <tr style=\"text-align: right;\">\n",
       "      <th></th>\n",
       "      <th>Sentence #</th>\n",
       "      <th>Word</th>\n",
       "      <th>POS</th>\n",
       "      <th>Tag</th>\n",
       "    </tr>\n",
       "  </thead>\n",
       "  <tbody>\n",
       "    <tr>\n",
       "      <th>1048570</th>\n",
       "      <td>Sentence: 47959</td>\n",
       "      <td>they</td>\n",
       "      <td>PRP</td>\n",
       "      <td>O</td>\n",
       "    </tr>\n",
       "    <tr>\n",
       "      <th>1048571</th>\n",
       "      <td>Sentence: 47959</td>\n",
       "      <td>responded</td>\n",
       "      <td>VBD</td>\n",
       "      <td>O</td>\n",
       "    </tr>\n",
       "    <tr>\n",
       "      <th>1048572</th>\n",
       "      <td>Sentence: 47959</td>\n",
       "      <td>to</td>\n",
       "      <td>TO</td>\n",
       "      <td>O</td>\n",
       "    </tr>\n",
       "    <tr>\n",
       "      <th>1048573</th>\n",
       "      <td>Sentence: 47959</td>\n",
       "      <td>the</td>\n",
       "      <td>DT</td>\n",
       "      <td>O</td>\n",
       "    </tr>\n",
       "    <tr>\n",
       "      <th>1048574</th>\n",
       "      <td>Sentence: 47959</td>\n",
       "      <td>attack</td>\n",
       "      <td>NN</td>\n",
       "      <td>O</td>\n",
       "    </tr>\n",
       "  </tbody>\n",
       "</table>\n",
       "</div>"
      ],
      "text/plain": [
       "              Sentence #       Word  POS Tag\n",
       "1048570  Sentence: 47959       they  PRP   O\n",
       "1048571  Sentence: 47959  responded  VBD   O\n",
       "1048572  Sentence: 47959         to   TO   O\n",
       "1048573  Sentence: 47959        the   DT   O\n",
       "1048574  Sentence: 47959     attack   NN   O"
      ]
     },
     "execution_count": 8,
     "metadata": {},
     "output_type": "execute_result"
    }
   ],
   "source": [
    "data.tail()"
   ]
  },
  {
   "cell_type": "code",
   "execution_count": 9,
   "metadata": {},
   "outputs": [
    {
     "data": {
      "text/plain": [
       "Index(['Sentence #', 'Word', 'POS', 'Tag'], dtype='object')"
      ]
     },
     "execution_count": 9,
     "metadata": {},
     "output_type": "execute_result"
    }
   ],
   "source": [
    "data.columns"
   ]
  },
  {
   "cell_type": "code",
   "execution_count": 10,
   "metadata": {},
   "outputs": [],
   "source": [
    "#data[data['Word']=='at']"
   ]
  },
  {
   "cell_type": "code",
   "execution_count": 11,
   "metadata": {},
   "outputs": [],
   "source": [
    "listOfSeries = [pd.Series(['Sentence: 47960','Dr','NNP','B-prov'],index=data.columns),\n",
    "                pd.Series(['Sentence: 47960','Gregory','NNP','I-prov'],index=data.columns),\n",
    "                pd.Series(['Sentence: 47960','M','NNP','I-prov'],index=data.columns),\n",
    "                pd.Series(['Sentence: 47960','Cowan','NNP','I-prov'],index=data.columns),\n",
    "                pd.Series(['Sentence: 47960','is','VBZ','O'],index=data.columns),\n",
    "                pd.Series(['Sentence: 47960','an','DT','O'],index=data.columns),\n",
    "                pd.Series(['Sentence: 47960','Immunologist','NN','B-spec'],index=data.columns),\n",
    "                pd.Series(['Sentence: 47960','at ','IN','O'],index=data.columns),\n",
    "                pd.Series(['Sentence: 47960','Fortis','NNP','B-org'],index=data.columns),\n",
    "                pd.Series(['Sentence: 47960','Hospital','NNP','I-org'],index=data.columns),\n",
    "                pd.Series(['Sentence: 47961','Dr','NNP','B-prov'],index=data.columns),\n",
    "                pd.Series(['Sentence: 47961','Debra','NNP','I-prov'],index=data.columns),\n",
    "                pd.Series(['Sentence: 47961','H','NNP','I-prov'],index=data.columns),\n",
    "                pd.Series(['Sentence: 47961','Mescher','NNP','I-prov'],index=data.columns),\n",
    "                pd.Series(['Sentence: 47961','is','VBZ','O'],index=data.columns),\n",
    "                pd.Series(['Sentence: 47961','an ','DT','O'],index=data.columns),\n",
    "                pd.Series(['Sentence: 47961','Internist','NN','B-spec'],index=data.columns),\n",
    "                pd.Series(['Sentence: 47962','Jordan','NNP','B-prov'],index=data.columns),\n",
    "                pd.Series(['Sentence: 47962','A','NNP','I-prov'],index=data.columns),\n",
    "                pd.Series(['Sentence: 47962','Sennett','NNP','I-prov'],index=data.columns),\n",
    "                pd.Series(['Sentence: 47962','is','VBZ','O'],index=data.columns),\n",
    "                pd.Series(['Sentence: 47962','an','DT','O'],index=data.columns),\n",
    "                pd.Series(['Sentence: 47962','Endocrinologist','NN','B-spec'],index=data.columns)\n",
    "                ]"
   ]
  },
  {
   "cell_type": "code",
   "execution_count": 12,
   "metadata": {},
   "outputs": [],
   "source": [
    "# Pass a list of series to the append() to add multiple rows\n",
    "data = data.append(listOfSeries , ignore_index=True)"
   ]
  },
  {
   "cell_type": "code",
   "execution_count": 13,
   "metadata": {},
   "outputs": [
    {
     "data": {
      "text/html": [
       "<div>\n",
       "<style scoped>\n",
       "    .dataframe tbody tr th:only-of-type {\n",
       "        vertical-align: middle;\n",
       "    }\n",
       "\n",
       "    .dataframe tbody tr th {\n",
       "        vertical-align: top;\n",
       "    }\n",
       "\n",
       "    .dataframe thead th {\n",
       "        text-align: right;\n",
       "    }\n",
       "</style>\n",
       "<table border=\"1\" class=\"dataframe\">\n",
       "  <thead>\n",
       "    <tr style=\"text-align: right;\">\n",
       "      <th></th>\n",
       "      <th>Sentence #</th>\n",
       "      <th>Word</th>\n",
       "      <th>POS</th>\n",
       "      <th>Tag</th>\n",
       "    </tr>\n",
       "  </thead>\n",
       "  <tbody>\n",
       "    <tr>\n",
       "      <th>1048573</th>\n",
       "      <td>Sentence: 47959</td>\n",
       "      <td>the</td>\n",
       "      <td>DT</td>\n",
       "      <td>O</td>\n",
       "    </tr>\n",
       "    <tr>\n",
       "      <th>1048574</th>\n",
       "      <td>Sentence: 47959</td>\n",
       "      <td>attack</td>\n",
       "      <td>NN</td>\n",
       "      <td>O</td>\n",
       "    </tr>\n",
       "    <tr>\n",
       "      <th>1048575</th>\n",
       "      <td>Sentence: 47960</td>\n",
       "      <td>Dr</td>\n",
       "      <td>NNP</td>\n",
       "      <td>B-prov</td>\n",
       "    </tr>\n",
       "    <tr>\n",
       "      <th>1048576</th>\n",
       "      <td>Sentence: 47960</td>\n",
       "      <td>Gregory</td>\n",
       "      <td>NNP</td>\n",
       "      <td>I-prov</td>\n",
       "    </tr>\n",
       "    <tr>\n",
       "      <th>1048577</th>\n",
       "      <td>Sentence: 47960</td>\n",
       "      <td>M</td>\n",
       "      <td>NNP</td>\n",
       "      <td>I-prov</td>\n",
       "    </tr>\n",
       "    <tr>\n",
       "      <th>1048578</th>\n",
       "      <td>Sentence: 47960</td>\n",
       "      <td>Cowan</td>\n",
       "      <td>NNP</td>\n",
       "      <td>I-prov</td>\n",
       "    </tr>\n",
       "    <tr>\n",
       "      <th>1048579</th>\n",
       "      <td>Sentence: 47960</td>\n",
       "      <td>is</td>\n",
       "      <td>VBZ</td>\n",
       "      <td>O</td>\n",
       "    </tr>\n",
       "    <tr>\n",
       "      <th>1048580</th>\n",
       "      <td>Sentence: 47960</td>\n",
       "      <td>an</td>\n",
       "      <td>DT</td>\n",
       "      <td>O</td>\n",
       "    </tr>\n",
       "    <tr>\n",
       "      <th>1048581</th>\n",
       "      <td>Sentence: 47960</td>\n",
       "      <td>Immunologist</td>\n",
       "      <td>NN</td>\n",
       "      <td>B-spec</td>\n",
       "    </tr>\n",
       "    <tr>\n",
       "      <th>1048582</th>\n",
       "      <td>Sentence: 47960</td>\n",
       "      <td>at</td>\n",
       "      <td>IN</td>\n",
       "      <td>O</td>\n",
       "    </tr>\n",
       "    <tr>\n",
       "      <th>1048583</th>\n",
       "      <td>Sentence: 47960</td>\n",
       "      <td>Fortis</td>\n",
       "      <td>NNP</td>\n",
       "      <td>B-org</td>\n",
       "    </tr>\n",
       "    <tr>\n",
       "      <th>1048584</th>\n",
       "      <td>Sentence: 47960</td>\n",
       "      <td>Hospital</td>\n",
       "      <td>NNP</td>\n",
       "      <td>I-org</td>\n",
       "    </tr>\n",
       "    <tr>\n",
       "      <th>1048585</th>\n",
       "      <td>Sentence: 47961</td>\n",
       "      <td>Dr</td>\n",
       "      <td>NNP</td>\n",
       "      <td>B-prov</td>\n",
       "    </tr>\n",
       "    <tr>\n",
       "      <th>1048586</th>\n",
       "      <td>Sentence: 47961</td>\n",
       "      <td>Debra</td>\n",
       "      <td>NNP</td>\n",
       "      <td>I-prov</td>\n",
       "    </tr>\n",
       "    <tr>\n",
       "      <th>1048587</th>\n",
       "      <td>Sentence: 47961</td>\n",
       "      <td>H</td>\n",
       "      <td>NNP</td>\n",
       "      <td>I-prov</td>\n",
       "    </tr>\n",
       "    <tr>\n",
       "      <th>1048588</th>\n",
       "      <td>Sentence: 47961</td>\n",
       "      <td>Mescher</td>\n",
       "      <td>NNP</td>\n",
       "      <td>I-prov</td>\n",
       "    </tr>\n",
       "    <tr>\n",
       "      <th>1048589</th>\n",
       "      <td>Sentence: 47961</td>\n",
       "      <td>is</td>\n",
       "      <td>VBZ</td>\n",
       "      <td>O</td>\n",
       "    </tr>\n",
       "    <tr>\n",
       "      <th>1048590</th>\n",
       "      <td>Sentence: 47961</td>\n",
       "      <td>an</td>\n",
       "      <td>DT</td>\n",
       "      <td>O</td>\n",
       "    </tr>\n",
       "    <tr>\n",
       "      <th>1048591</th>\n",
       "      <td>Sentence: 47961</td>\n",
       "      <td>Internist</td>\n",
       "      <td>NN</td>\n",
       "      <td>B-spec</td>\n",
       "    </tr>\n",
       "    <tr>\n",
       "      <th>1048592</th>\n",
       "      <td>Sentence: 47962</td>\n",
       "      <td>Jordan</td>\n",
       "      <td>NNP</td>\n",
       "      <td>B-prov</td>\n",
       "    </tr>\n",
       "    <tr>\n",
       "      <th>1048593</th>\n",
       "      <td>Sentence: 47962</td>\n",
       "      <td>A</td>\n",
       "      <td>NNP</td>\n",
       "      <td>I-prov</td>\n",
       "    </tr>\n",
       "    <tr>\n",
       "      <th>1048594</th>\n",
       "      <td>Sentence: 47962</td>\n",
       "      <td>Sennett</td>\n",
       "      <td>NNP</td>\n",
       "      <td>I-prov</td>\n",
       "    </tr>\n",
       "    <tr>\n",
       "      <th>1048595</th>\n",
       "      <td>Sentence: 47962</td>\n",
       "      <td>is</td>\n",
       "      <td>VBZ</td>\n",
       "      <td>O</td>\n",
       "    </tr>\n",
       "    <tr>\n",
       "      <th>1048596</th>\n",
       "      <td>Sentence: 47962</td>\n",
       "      <td>an</td>\n",
       "      <td>DT</td>\n",
       "      <td>O</td>\n",
       "    </tr>\n",
       "    <tr>\n",
       "      <th>1048597</th>\n",
       "      <td>Sentence: 47962</td>\n",
       "      <td>Endocrinologist</td>\n",
       "      <td>NN</td>\n",
       "      <td>B-spec</td>\n",
       "    </tr>\n",
       "  </tbody>\n",
       "</table>\n",
       "</div>"
      ],
      "text/plain": [
       "              Sentence #             Word  POS     Tag\n",
       "1048573  Sentence: 47959              the   DT       O\n",
       "1048574  Sentence: 47959           attack   NN       O\n",
       "1048575  Sentence: 47960               Dr  NNP  B-prov\n",
       "1048576  Sentence: 47960          Gregory  NNP  I-prov\n",
       "1048577  Sentence: 47960                M  NNP  I-prov\n",
       "1048578  Sentence: 47960            Cowan  NNP  I-prov\n",
       "1048579  Sentence: 47960               is  VBZ       O\n",
       "1048580  Sentence: 47960               an   DT       O\n",
       "1048581  Sentence: 47960     Immunologist   NN  B-spec\n",
       "1048582  Sentence: 47960              at    IN       O\n",
       "1048583  Sentence: 47960           Fortis  NNP   B-org\n",
       "1048584  Sentence: 47960         Hospital  NNP   I-org\n",
       "1048585  Sentence: 47961               Dr  NNP  B-prov\n",
       "1048586  Sentence: 47961            Debra  NNP  I-prov\n",
       "1048587  Sentence: 47961                H  NNP  I-prov\n",
       "1048588  Sentence: 47961          Mescher  NNP  I-prov\n",
       "1048589  Sentence: 47961               is  VBZ       O\n",
       "1048590  Sentence: 47961              an    DT       O\n",
       "1048591  Sentence: 47961        Internist   NN  B-spec\n",
       "1048592  Sentence: 47962           Jordan  NNP  B-prov\n",
       "1048593  Sentence: 47962                A  NNP  I-prov\n",
       "1048594  Sentence: 47962          Sennett  NNP  I-prov\n",
       "1048595  Sentence: 47962               is  VBZ       O\n",
       "1048596  Sentence: 47962               an   DT       O\n",
       "1048597  Sentence: 47962  Endocrinologist   NN  B-spec"
      ]
     },
     "execution_count": 13,
     "metadata": {},
     "output_type": "execute_result"
    }
   ],
   "source": [
    "data.tail(25)"
   ]
  },
  {
   "cell_type": "code",
   "execution_count": 14,
   "metadata": {},
   "outputs": [
    {
     "data": {
      "text/plain": [
       "array(['Sentence: 1', 'Sentence: 2', 'Sentence: 3', ...,\n",
       "       'Sentence: 47960', 'Sentence: 47961', 'Sentence: 47962'],\n",
       "      dtype=object)"
      ]
     },
     "execution_count": 14,
     "metadata": {},
     "output_type": "execute_result"
    }
   ],
   "source": [
    "data['Sentence #'].unique()"
   ]
  },
  {
   "cell_type": "code",
   "execution_count": 15,
   "metadata": {},
   "outputs": [
    {
     "name": "stdout",
     "output_type": "stream",
     "text": [
      "<pandas.core.groupby.generic.DataFrameGroupBy object at 0x7f764a28b5c0>\n",
      "Number of sentences:  47962\n"
     ]
    }
   ],
   "source": [
    "print(data.groupby(['Sentence #']))\n",
    "print(\"Number of sentences: \", len(data.groupby(['Sentence #'])))"
   ]
  },
  {
   "cell_type": "code",
   "execution_count": 16,
   "metadata": {},
   "outputs": [
    {
     "name": "stdout",
     "output_type": "stream",
     "text": [
      "Number of unique words in the dataset:  35189\n",
      "Number of total words in the dataset:  1048598\n"
     ]
    }
   ],
   "source": [
    "words = list(set(data['Word'].values))\n",
    "n_words = len(words)\n",
    "print(\"Number of unique words in the dataset: \", n_words)\n",
    "print(\"Number of total words in the dataset: \", len(list(data['Word'].values)))"
   ]
  },
  {
   "cell_type": "code",
   "execution_count": 17,
   "metadata": {},
   "outputs": [
    {
     "name": "stdout",
     "output_type": "stream",
     "text": [
      "['B-prov', 'B-tim', 'B-gpe', 'I-prov', 'I-nat', 'I-per', 'I-eve', 'I-art', 'O', 'I-tim', 'B-per', 'B-org', 'I-org', 'I-geo', 'B-spec', 'B-art', 'B-geo', 'I-gpe', 'B-nat', 'B-eve']\n",
      "Number of tags in the dataset:  20\n"
     ]
    }
   ],
   "source": [
    "tags = list(set(data['Tag'].values))\n",
    "n_tags = len(tags)\n",
    "print(tags)\n",
    "print(\"Number of tags in the dataset: \", n_tags)"
   ]
  },
  {
   "cell_type": "code",
   "execution_count": 18,
   "metadata": {},
   "outputs": [],
   "source": [
    "agg_func = lambda s:[(w,p,t) for w,p,t in zip(s[\"Word\"].values.tolist(), s[\"POS\"].values.tolist(), s[\"Tag\"].values.tolist())]"
   ]
  },
  {
   "cell_type": "code",
   "execution_count": 19,
   "metadata": {},
   "outputs": [
    {
     "name": "stdout",
     "output_type": "stream",
     "text": [
      "('Thousands', 'NNS', 'O')\n",
      "('of', 'IN', 'O')\n",
      "('demonstrators', 'NNS', 'O')\n",
      "('have', 'VBP', 'O')\n",
      "('marched', 'VBN', 'O')\n"
     ]
    },
    {
     "ename": "AssertionError",
     "evalue": "",
     "output_type": "error",
     "traceback": [
      "\u001b[0;31m---------------------------------------------------------------------------\u001b[0m",
      "\u001b[0;31mAssertionError\u001b[0m                            Traceback (most recent call last)",
      "\u001b[0;32m<ipython-input-19-ad9463b05ca8>\u001b[0m in \u001b[0;36m<module>\u001b[0;34m\u001b[0m\n\u001b[1;32m      2\u001b[0m     \u001b[0mprint\u001b[0m\u001b[0;34m(\u001b[0m\u001b[0mi\u001b[0m\u001b[0;34m)\u001b[0m\u001b[0;34m\u001b[0m\u001b[0;34m\u001b[0m\u001b[0m\n\u001b[1;32m      3\u001b[0m     \u001b[0;32mif\u001b[0m \u001b[0mi\u001b[0m\u001b[0;34m[\u001b[0m\u001b[0;36m0\u001b[0m\u001b[0;34m]\u001b[0m \u001b[0;34m==\u001b[0m \u001b[0;34m'marched'\u001b[0m\u001b[0;34m:\u001b[0m\u001b[0;34m\u001b[0m\u001b[0;34m\u001b[0m\u001b[0m\n\u001b[0;32m----> 4\u001b[0;31m         \u001b[0;32massert\u001b[0m \u001b[0;32mFalse\u001b[0m\u001b[0;34m\u001b[0m\u001b[0;34m\u001b[0m\u001b[0m\n\u001b[0m",
      "\u001b[0;31mAssertionError\u001b[0m: "
     ]
    }
   ],
   "source": [
    "for i in zip(data[\"Word\"].values.tolist(), data[\"POS\"].values.tolist(), data[\"Tag\"].values.tolist()):\n",
    "    print(i)    \n",
    "    if i[0] == 'marched':\n",
    "        assert False"
   ]
  },
  {
   "cell_type": "code",
   "execution_count": 20,
   "metadata": {},
   "outputs": [],
   "source": [
    "class SentenceGetter(object):\n",
    "    \"\"\"\n",
    "    Class to get sentence in format : [(Token, PartOfSpeech,Tag),()]\n",
    "    \"\"\"\n",
    "    def __init__(self,data):\n",
    "        \"\"\"\n",
    "        data : pandas dataframe\n",
    "        \"\"\"\n",
    "        self.n_sent = 1\n",
    "        self.data = data\n",
    "        self.empty = False\n",
    "        \n",
    "        self.grouped = self.data.groupby(\"Sentence #\").apply(agg_func)\n",
    "        self.sentences = [s for s in self.grouped]\n",
    "        print(len(self.sentences))\n",
    "        print(self.sentences[-1])\n",
    "        \n",
    "    def get_next(self):\n",
    "        \"\"\"Return One Sentence\"\"\"\n",
    "        try:\n",
    "            s = self.grouped[\"Sentence: {}\".format(self.n_sent)]\n",
    "            self.n_sent += 1\n",
    "            return s\n",
    "        except:\n",
    "            return None\n",
    "    "
   ]
  },
  {
   "cell_type": "code",
   "execution_count": 21,
   "metadata": {},
   "outputs": [
    {
     "name": "stdout",
     "output_type": "stream",
     "text": [
      "47962\n",
      "[('The', 'DT', 'O'), ('United', 'NNP', 'B-org'), ('Nations', 'NNP', 'I-org'), ('is', 'VBZ', 'O'), ('praising', 'VBG', 'O'), ('the', 'DT', 'O'), ('use', 'NN', 'O'), ('of', 'IN', 'O'), ('military', 'JJ', 'O'), ('helicopters', 'NNS', 'O'), ('to', 'TO', 'O'), ('drop', 'VB', 'O'), ('food', 'NN', 'O'), ('and', 'CC', 'O'), ('rescue', 'NN', 'O'), ('survivors', 'NNS', 'O'), ('in', 'IN', 'O'), ('tsunami-ravaged', 'JJ', 'B-tim'), ('Indonesia', 'NNP', 'I-tim'), (',', ',', 'O'), ('saying', 'VBG', 'O'), ('the', 'DT', 'O'), ('aircraft', 'NN', 'O'), ('are', 'VBP', 'O'), ('\"', '``', 'O'), ('worth', 'IN', 'O'), ('their', 'PRP$', 'O'), ('weight', 'NN', 'O'), ('in', 'IN', 'O'), ('gold', 'NN', 'O'), ('.', '.', 'O'), ('\"', '``', 'O')]\n"
     ]
    }
   ],
   "source": [
    "getter = SentenceGetter(data)"
   ]
  },
  {
   "cell_type": "code",
   "execution_count": 22,
   "metadata": {},
   "outputs": [
    {
     "name": "stdout",
     "output_type": "stream",
     "text": [
      "<class '__main__.SentenceGetter'>\n"
     ]
    }
   ],
   "source": [
    "print(type(getter))"
   ]
  },
  {
   "cell_type": "code",
   "execution_count": 23,
   "metadata": {},
   "outputs": [],
   "source": [
    "sent = getter.get_next()"
   ]
  },
  {
   "cell_type": "code",
   "execution_count": 24,
   "metadata": {},
   "outputs": [
    {
     "name": "stdout",
     "output_type": "stream",
     "text": [
      "This is what a sentence looks like:\n",
      "[('Thousands', 'NNS', 'O'), ('of', 'IN', 'O'), ('demonstrators', 'NNS', 'O'), ('have', 'VBP', 'O'), ('marched', 'VBN', 'O'), ('through', 'IN', 'O'), ('London', 'NNP', 'B-geo'), ('to', 'TO', 'O'), ('protest', 'VB', 'O'), ('the', 'DT', 'O'), ('war', 'NN', 'O'), ('in', 'IN', 'O'), ('Iraq', 'NNP', 'B-geo'), ('and', 'CC', 'O'), ('demand', 'VB', 'O'), ('the', 'DT', 'O'), ('withdrawal', 'NN', 'O'), ('of', 'IN', 'O'), ('British', 'JJ', 'B-gpe'), ('troops', 'NNS', 'O'), ('from', 'IN', 'O'), ('that', 'DT', 'O'), ('country', 'NN', 'O'), ('.', '.', 'O')]\n"
     ]
    }
   ],
   "source": [
    "print('This is what a sentence looks like:')\n",
    "print(sent)"
   ]
  },
  {
   "cell_type": "code",
   "execution_count": 25,
   "metadata": {},
   "outputs": [
    {
     "name": "stdout",
     "output_type": "stream",
     "text": [
      "47962\n"
     ]
    }
   ],
   "source": [
    "# Get all the sentences\n",
    "sentences = getter.sentences\n",
    "print(len(sentences))"
   ]
  },
  {
   "cell_type": "code",
   "execution_count": 26,
   "metadata": {},
   "outputs": [
    {
     "data": {
      "image/png": "[encoded data removed]",
      "text/plain": [
       "<Figure size 432x288 with 1 Axes>"
      ]
     },
     "metadata": {
      "needs_background": "light"
     },
     "output_type": "display_data"
    }
   ],
   "source": [
    "# Plot sentence by lenght\n",
    "plt.hist([len(s) for s in sentences], bins=50)\n",
    "plt.title('Token per sentence')\n",
    "plt.xlabel('Len (number of token)')\n",
    "plt.ylabel('# samples')\n",
    "plt.show()"
   ]
  },
  {
   "cell_type": "raw",
   "metadata": {},
   "source": [
    "Data Preprocessing\n",
    "Before feeding the data into the model, we have to preprocess the text.\n",
    "\n",
    "We will use the word2idx dictionary to convert each word to a corresponding integer ID and the tag2idx to do the same for the labels. Representing words as integers saves a lot of memory!\n",
    "\n",
    "In order to feed the text into our Bi-LSTM-CRF, all texts should be the same length. We ensure this using the sequence.pad_sequences() method and MAX_LEN variable. \n",
    "\n",
    "All texts longer than MAX_LEN are truncated and shorter texts are padded to get them to the same length."
   ]
  },
  {
   "cell_type": "code",
   "execution_count": 27,
   "metadata": {},
   "outputs": [],
   "source": [
    "# Vocabulary Key:word --> Value:token_index\n",
    "# The first 2 entries are reserved for PAD and UNK\n",
    "word2idx = {w:i+2 for i,w in enumerate(words)}"
   ]
  },
  {
   "cell_type": "code",
   "execution_count": 28,
   "metadata": {},
   "outputs": [],
   "source": [
    "word2idx['UNK'] = 1 # Unknown words\n",
    "word2idx['PAD'] = 0 # Padding"
   ]
  },
  {
   "cell_type": "code",
   "execution_count": 29,
   "metadata": {},
   "outputs": [
    {
     "name": "stdout",
     "output_type": "stream",
     "text": [
      "20683\n",
      "450\n",
      "8473\n",
      "14164\n"
     ]
    },
    {
     "ename": "KeyError",
     "evalue": "'andy'",
     "output_type": "error",
     "traceback": [
      "\u001b[0;31m---------------------------------------------------------------------------\u001b[0m",
      "\u001b[0;31mKeyError\u001b[0m                                  Traceback (most recent call last)",
      "\u001b[0;32m<ipython-input-29-93ee451da981>\u001b[0m in \u001b[0;36m<module>\u001b[0;34m\u001b[0m\n\u001b[1;32m      3\u001b[0m \u001b[0mprint\u001b[0m\u001b[0;34m(\u001b[0m\u001b[0mword2idx\u001b[0m\u001b[0;34m[\u001b[0m\u001b[0;34m'George'\u001b[0m\u001b[0;34m]\u001b[0m\u001b[0;34m)\u001b[0m\u001b[0;34m\u001b[0m\u001b[0;34m\u001b[0m\u001b[0m\n\u001b[1;32m      4\u001b[0m \u001b[0mprint\u001b[0m\u001b[0;34m(\u001b[0m\u001b[0mword2idx\u001b[0m\u001b[0;34m[\u001b[0m\u001b[0;34m'Endocrinologist'\u001b[0m\u001b[0;34m]\u001b[0m\u001b[0;34m)\u001b[0m\u001b[0;34m\u001b[0m\u001b[0;34m\u001b[0m\u001b[0m\n\u001b[0;32m----> 5\u001b[0;31m \u001b[0mprint\u001b[0m\u001b[0;34m(\u001b[0m\u001b[0mword2idx\u001b[0m\u001b[0;34m[\u001b[0m\u001b[0;34m'andy'\u001b[0m\u001b[0;34m]\u001b[0m\u001b[0;34m)\u001b[0m\u001b[0;34m\u001b[0m\u001b[0;34m\u001b[0m\u001b[0m\n\u001b[0m",
      "\u001b[0;31mKeyError\u001b[0m: 'andy'"
     ]
    }
   ],
   "source": [
    "print(word2idx['of'])\n",
    "print(word2idx['through'])\n",
    "print(word2idx['George'])\n",
    "print(word2idx['Endocrinologist'])\n",
    "print(word2idx['andy'])"
   ]
  },
  {
   "cell_type": "code",
   "execution_count": 30,
   "metadata": {},
   "outputs": [],
   "source": [
    "# Vocabulary Key:token_index  --> Value:word\n",
    "idx2word = {i:w for w,i in word2idx.items()}"
   ]
  },
  {
   "cell_type": "code",
   "execution_count": 31,
   "metadata": {},
   "outputs": [
    {
     "name": "stdout",
     "output_type": "stream",
     "text": [
      "PAD\n",
      "UNK\n",
      "Choe\n"
     ]
    }
   ],
   "source": [
    "print(idx2word[0])\n",
    "print(idx2word[1])\n",
    "print(idx2word[2])"
   ]
  },
  {
   "cell_type": "code",
   "execution_count": 32,
   "metadata": {},
   "outputs": [],
   "source": [
    "# Vocabulary Key:Label/Tag --> Value:tag_index\n",
    "# The first entry is reserved for PAD\n",
    "tag2idx = {t: i+1 for i,t in enumerate(tags)}\n",
    "tag2idx[\"PAD\"] = 0 "
   ]
  },
  {
   "cell_type": "code",
   "execution_count": 33,
   "metadata": {},
   "outputs": [],
   "source": [
    "# Vocabulary Key:tag_index --> Value:Label/Tag\n",
    "idx2tag = {i:w for w,i in tag2idx.items()}"
   ]
  },
  {
   "cell_type": "code",
   "execution_count": 34,
   "metadata": {},
   "outputs": [
    {
     "name": "stdout",
     "output_type": "stream",
     "text": [
      "{'B-prov': 1, 'B-tim': 2, 'B-gpe': 3, 'I-prov': 4, 'I-nat': 5, 'I-per': 6, 'I-eve': 7, 'I-art': 8, 'O': 9, 'I-tim': 10, 'B-per': 11, 'B-org': 12, 'I-org': 13, 'I-geo': 14, 'B-spec': 15, 'B-art': 16, 'B-geo': 17, 'I-gpe': 18, 'B-nat': 19, 'B-eve': 20, 'PAD': 0}\n"
     ]
    }
   ],
   "source": [
    "print(tag2idx)"
   ]
  },
  {
   "cell_type": "code",
   "execution_count": 35,
   "metadata": {},
   "outputs": [
    {
     "name": "stdout",
     "output_type": "stream",
     "text": [
      "{1: 'B-prov', 2: 'B-tim', 3: 'B-gpe', 4: 'I-prov', 5: 'I-nat', 6: 'I-per', 7: 'I-eve', 8: 'I-art', 9: 'O', 10: 'I-tim', 11: 'B-per', 12: 'B-org', 13: 'I-org', 14: 'I-geo', 15: 'B-spec', 16: 'B-art', 17: 'B-geo', 18: 'I-gpe', 19: 'B-nat', 20: 'B-eve', 0: 'PAD'}\n"
     ]
    }
   ],
   "source": [
    "print(idx2tag)"
   ]
  },
  {
   "cell_type": "code",
   "execution_count": 36,
   "metadata": {},
   "outputs": [
    {
     "name": "stdout",
     "output_type": "stream",
     "text": [
      "The word Obama is identified by the index: 32899\n"
     ]
    }
   ],
   "source": [
    "print(\"The word Obama is identified by the index: {}\".format(word2idx[\"Obama\"]))"
   ]
  },
  {
   "cell_type": "code",
   "execution_count": 37,
   "metadata": {},
   "outputs": [
    {
     "name": "stdout",
     "output_type": "stream",
     "text": [
      "The labels B-geo(which defines Geopraphical Enitities) is identified by the index: 17\n"
     ]
    }
   ],
   "source": [
    "print(\"The labels B-geo(which defines Geopraphical Enitities) is identified by the index: {}\".format(tag2idx[\"B-geo\"]))"
   ]
  },
  {
   "cell_type": "code",
   "execution_count": 38,
   "metadata": {},
   "outputs": [
    {
     "name": "stdout",
     "output_type": "stream",
     "text": [
      "The labels B-prov(which defines Providers) is identified by the index: 1\n"
     ]
    }
   ],
   "source": [
    "print(\"The labels B-prov(which defines Providers) is identified by the index: {}\".format(tag2idx[\"B-prov\"]))"
   ]
  },
  {
   "cell_type": "code",
   "execution_count": 39,
   "metadata": {},
   "outputs": [],
   "source": [
    "from keras.preprocessing.sequence import pad_sequences"
   ]
  },
  {
   "cell_type": "code",
   "execution_count": 40,
   "metadata": {},
   "outputs": [],
   "source": [
    "# Convert each sentence from list of tokens to list of word index\n",
    "X = [[word2idx[w[0]] for w in s] for s in sentences]"
   ]
  },
  {
   "cell_type": "code",
   "execution_count": 41,
   "metadata": {},
   "outputs": [
    {
     "name": "stdout",
     "output_type": "stream",
     "text": [
      "47962\n",
      "47962\n"
     ]
    }
   ],
   "source": [
    "print(len(X))\n",
    "print(len(sentences))"
   ]
  },
  {
   "cell_type": "code",
   "execution_count": 42,
   "metadata": {},
   "outputs": [],
   "source": [
    "# Padding each sentence to have the same length\n",
    "X = pad_sequences(maxlen=MAX_LEN, sequences=X, padding='post', value=word2idx[\"PAD\"])"
   ]
  },
  {
   "cell_type": "code",
   "execution_count": 43,
   "metadata": {},
   "outputs": [],
   "source": [
    "# Convert Tag/Label to tag_index\n",
    "y = [[tag2idx[w[2]] for w in s] for s in sentences]\n",
    "# Padding each sentence to have the same length\n",
    "y = pad_sequences(maxlen=MAX_LEN, sequences=y, padding=\"post\", value=tag2idx[\"PAD\"])"
   ]
  },
  {
   "cell_type": "code",
   "execution_count": 44,
   "metadata": {},
   "outputs": [],
   "source": [
    "from keras.utils import to_categorical"
   ]
  },
  {
   "cell_type": "code",
   "execution_count": 45,
   "metadata": {},
   "outputs": [],
   "source": [
    "# One Hot encode\n",
    "y = [to_categorical(y=i, num_classes=n_tags+1) for i in y] # n_tags+1(PAD)"
   ]
  },
  {
   "cell_type": "code",
   "execution_count": 46,
   "metadata": {},
   "outputs": [
    {
     "name": "stdout",
     "output_type": "stream",
     "text": [
      "[0. 0. 0. 0. 0. 0. 0. 0. 0. 1. 0. 0. 0. 0. 0. 0. 0. 0. 0. 0. 0.]\n",
      "21\n"
     ]
    }
   ],
   "source": [
    "print(y[0][0])\n",
    "print(len(y[0][0]))"
   ]
  },
  {
   "cell_type": "code",
   "execution_count": 47,
   "metadata": {},
   "outputs": [],
   "source": [
    "from sklearn.model_selection import train_test_split\n",
    "X_train, X_test, y_train, y_test = train_test_split(X,y,test_size=0.1)"
   ]
  },
  {
   "cell_type": "code",
   "execution_count": 48,
   "metadata": {},
   "outputs": [
    {
     "name": "stdout",
     "output_type": "stream",
     "text": [
      "(43165, 75)\n",
      "(4797, 75)\n",
      "47962\n",
      "(43165, 75, 21)\n",
      "(4797, 75, 21)\n",
      "47962\n"
     ]
    }
   ],
   "source": [
    "print(X_train.shape)\n",
    "print(X_test.shape)\n",
    "print(X_train.shape[0] + X_test.shape[0])\n",
    "print(np.array(y_train).shape)\n",
    "print(np.array(y_test).shape)\n",
    "print(np.array(y_train).shape[0] + np.array(y_test).shape[0])"
   ]
  },
  {
   "cell_type": "code",
   "execution_count": 49,
   "metadata": {
    "collapsed": true
   },
   "outputs": [
    {
     "name": "stdout",
     "output_type": "stream",
     "text": [
      "Raw Sample: \n",
      "Thousands of demonstrators have marched through London to protest the war in Iraq and demand the withdrawal of British troops from that country .\n",
      "145\n",
      "\n",
      "\n",
      "After processing, sample:\n",
      "[14079 20683 13185 15970 27375   450 12404 34505  3948  6403 15605 25463\n",
      " 27935 25827 33855  6403 12709 20683  8071 29745  2166  1962 20412  3903\n",
      "     0     0     0     0     0     0     0     0     0     0     0     0\n",
      "     0     0     0     0     0     0     0     0     0     0     0     0\n",
      "     0     0     0     0     0     0     0     0     0     0     0     0\n",
      "     0     0     0     0     0     0     0     0     0     0     0     0\n",
      "     0     0     0]\n",
      "75\n",
      "\n",
      "\n",
      "14079 Thousands\n",
      "20683 of\n",
      "13185 demonstrators\n",
      "15970 have\n",
      "27375 marched\n",
      "450 through\n",
      "12404 London\n",
      "34505 to\n",
      "3948 protest\n",
      "6403 the\n",
      "15605 war\n",
      "25463 in\n",
      "27935 Iraq\n",
      "25827 and\n",
      "33855 demand\n",
      "6403 the\n",
      "12709 withdrawal\n",
      "20683 of\n",
      "8071 British\n",
      "29745 troops\n",
      "2166 from\n",
      "1962 that\n",
      "20412 country\n",
      "3903 .\n",
      "0 PAD\n",
      "0 PAD\n",
      "0 PAD\n",
      "0 PAD\n",
      "0 PAD\n",
      "0 PAD\n",
      "0 PAD\n",
      "0 PAD\n",
      "0 PAD\n",
      "0 PAD\n",
      "0 PAD\n",
      "0 PAD\n",
      "0 PAD\n",
      "0 PAD\n",
      "0 PAD\n",
      "0 PAD\n",
      "0 PAD\n",
      "0 PAD\n",
      "0 PAD\n",
      "0 PAD\n",
      "0 PAD\n",
      "0 PAD\n",
      "0 PAD\n",
      "0 PAD\n",
      "0 PAD\n",
      "0 PAD\n",
      "0 PAD\n",
      "0 PAD\n",
      "0 PAD\n",
      "0 PAD\n",
      "0 PAD\n",
      "0 PAD\n",
      "0 PAD\n",
      "0 PAD\n",
      "0 PAD\n",
      "0 PAD\n",
      "0 PAD\n",
      "0 PAD\n",
      "0 PAD\n",
      "0 PAD\n",
      "0 PAD\n",
      "0 PAD\n",
      "0 PAD\n",
      "0 PAD\n",
      "0 PAD\n",
      "0 PAD\n",
      "0 PAD\n",
      "0 PAD\n",
      "0 PAD\n",
      "0 PAD\n",
      "0 PAD\n",
      "\n",
      "\n"
     ]
    }
   ],
   "source": [
    "w0 = ' '.join([w[0] for w in sentences[0]])\n",
    "print('Raw Sample: ')\n",
    "print(w0)\n",
    "print(len(w0))\n",
    "print('\\n')\n",
    "print('After processing, sample:')\n",
    "print(X[0])\n",
    "print(len(X[0]))\n",
    "print('\\n')\n",
    "for i in X[0]:\n",
    "    print(i, idx2word[i])\n",
    "print('\\n')"
   ]
  },
  {
   "cell_type": "code",
   "execution_count": 65,
   "metadata": {
    "collapsed": true
   },
   "outputs": [
    {
     "name": "stdout",
     "output_type": "stream",
     "text": [
      "Raw Label: \n",
      "O O O O O O B-geo O O O O O B-geo O O O O O B-gpe O O O O O\n",
      "['O', 'O', 'O', 'O', 'O', 'O', 'B-geo', 'O', 'O', 'O', 'O', 'O', 'B-geo', 'O', 'O', 'O', 'O', 'O', 'B-gpe', 'O', 'O', 'O', 'O', 'O']\n",
      "24\n",
      "<class 'list'>\n",
      "\n",
      "\n",
      "After processing, labels:\n",
      "75\n",
      "O [0. 0. 0. 0. 0. 0. 0. 0. 0. 1. 0. 0. 0. 0. 0. 0. 0. 0. 0. 0. 0.]\n",
      "O [0. 0. 0. 0. 0. 0. 0. 0. 0. 1. 0. 0. 0. 0. 0. 0. 0. 0. 0. 0. 0.]\n",
      "O [0. 0. 0. 0. 0. 0. 0. 0. 0. 1. 0. 0. 0. 0. 0. 0. 0. 0. 0. 0. 0.]\n",
      "O [0. 0. 0. 0. 0. 0. 0. 0. 0. 1. 0. 0. 0. 0. 0. 0. 0. 0. 0. 0. 0.]\n",
      "O [0. 0. 0. 0. 0. 0. 0. 0. 0. 1. 0. 0. 0. 0. 0. 0. 0. 0. 0. 0. 0.]\n",
      "O [0. 0. 0. 0. 0. 0. 0. 0. 0. 1. 0. 0. 0. 0. 0. 0. 0. 0. 0. 0. 0.]\n",
      "B-geo [0. 0. 0. 0. 0. 0. 0. 0. 0. 0. 0. 0. 0. 0. 0. 0. 0. 1. 0. 0. 0.]\n",
      "O [0. 0. 0. 0. 0. 0. 0. 0. 0. 1. 0. 0. 0. 0. 0. 0. 0. 0. 0. 0. 0.]\n",
      "O [0. 0. 0. 0. 0. 0. 0. 0. 0. 1. 0. 0. 0. 0. 0. 0. 0. 0. 0. 0. 0.]\n",
      "O [0. 0. 0. 0. 0. 0. 0. 0. 0. 1. 0. 0. 0. 0. 0. 0. 0. 0. 0. 0. 0.]\n",
      "O [0. 0. 0. 0. 0. 0. 0. 0. 0. 1. 0. 0. 0. 0. 0. 0. 0. 0. 0. 0. 0.]\n",
      "O [0. 0. 0. 0. 0. 0. 0. 0. 0. 1. 0. 0. 0. 0. 0. 0. 0. 0. 0. 0. 0.]\n",
      "B-geo [0. 0. 0. 0. 0. 0. 0. 0. 0. 0. 0. 0. 0. 0. 0. 0. 0. 1. 0. 0. 0.]\n",
      "O [0. 0. 0. 0. 0. 0. 0. 0. 0. 1. 0. 0. 0. 0. 0. 0. 0. 0. 0. 0. 0.]\n",
      "O [0. 0. 0. 0. 0. 0. 0. 0. 0. 1. 0. 0. 0. 0. 0. 0. 0. 0. 0. 0. 0.]\n",
      "O [0. 0. 0. 0. 0. 0. 0. 0. 0. 1. 0. 0. 0. 0. 0. 0. 0. 0. 0. 0. 0.]\n",
      "O [0. 0. 0. 0. 0. 0. 0. 0. 0. 1. 0. 0. 0. 0. 0. 0. 0. 0. 0. 0. 0.]\n",
      "O [0. 0. 0. 0. 0. 0. 0. 0. 0. 1. 0. 0. 0. 0. 0. 0. 0. 0. 0. 0. 0.]\n",
      "B-gpe [0. 0. 0. 1. 0. 0. 0. 0. 0. 0. 0. 0. 0. 0. 0. 0. 0. 0. 0. 0. 0.]\n",
      "O [0. 0. 0. 0. 0. 0. 0. 0. 0. 1. 0. 0. 0. 0. 0. 0. 0. 0. 0. 0. 0.]\n",
      "O [0. 0. 0. 0. 0. 0. 0. 0. 0. 1. 0. 0. 0. 0. 0. 0. 0. 0. 0. 0. 0.]\n",
      "O [0. 0. 0. 0. 0. 0. 0. 0. 0. 1. 0. 0. 0. 0. 0. 0. 0. 0. 0. 0. 0.]\n",
      "O [0. 0. 0. 0. 0. 0. 0. 0. 0. 1. 0. 0. 0. 0. 0. 0. 0. 0. 0. 0. 0.]\n",
      "O [0. 0. 0. 0. 0. 0. 0. 0. 0. 1. 0. 0. 0. 0. 0. 0. 0. 0. 0. 0. 0.]\n",
      "[[0. 0. 0. ... 0. 0. 0.]\n",
      " [0. 0. 0. ... 0. 0. 0.]\n",
      " [0. 0. 0. ... 0. 0. 0.]\n",
      " ...\n",
      " [1. 0. 0. ... 0. 0. 0.]\n",
      " [1. 0. 0. ... 0. 0. 0.]\n",
      " [1. 0. 0. ... 0. 0. 0.]]\n"
     ]
    }
   ],
   "source": [
    "w2 = ' '.join([w[2] for w in sentences[0]])\n",
    "ws2 = [w[2] for w in sentences[0]]\n",
    "print('Raw Label: ')\n",
    "print(w2)\n",
    "print(ws2)\n",
    "print(len(ws2))\n",
    "print(type(ws2))\n",
    "print('\\n')\n",
    "print('After processing, labels:')\n",
    "print(len(y[0]))\n",
    "for i in range(len(ws2)):\n",
    "    print(ws2[i],y[0][i])\n",
    "    \n",
    "print(y[0])\n"
   ]
  },
  {
   "cell_type": "code",
   "execution_count": 52,
   "metadata": {},
   "outputs": [],
   "source": [
    "# Install extra-dependencies\n",
    "! pip -q install git+https://www.github.com/keras-team/keras-contrib.git sklearn-crfsuite"
   ]
  },
  {
   "cell_type": "code",
   "execution_count": 53,
   "metadata": {},
   "outputs": [
    {
     "name": "stderr",
     "output_type": "stream",
     "text": [
      "/home/ikscare/anaconda3/envs/py36/lib/python3.6/site-packages/keras_contrib/layers/crf.py:346: UserWarning: CRF.loss_function is deprecated and it might be removed in the future. Please use losses.crf_loss instead.\n",
      "  warnings.warn('CRF.loss_function is deprecated '\n",
      "/home/ikscare/anaconda3/envs/py36/lib/python3.6/site-packages/keras_contrib/layers/crf.py:353: UserWarning: CRF.accuracy is deprecated and it might be removed in the future. Please use metrics.crf_accuracy\n",
      "  warnings.warn('CRF.accuracy is deprecated and it '\n"
     ]
    },
    {
     "name": "stdout",
     "output_type": "stream",
     "text": [
      "_________________________________________________________________\n",
      "Layer (type)                 Output Shape              Param #   \n",
      "=================================================================\n",
      "input_1 (InputLayer)         (None, 75)                0         \n",
      "_________________________________________________________________\n",
      "embedding_1 (Embedding)      (None, 75, 20)            703820    \n",
      "_________________________________________________________________\n",
      "bidirectional_1 (Bidirection (None, 75, 100)           28400     \n",
      "_________________________________________________________________\n",
      "time_distributed_1 (TimeDist (None, 75, 50)            5050      \n",
      "_________________________________________________________________\n",
      "crf_1 (CRF)                  (None, 75, 21)            1554      \n",
      "=================================================================\n",
      "Total params: 738,824\n",
      "Trainable params: 738,824\n",
      "Non-trainable params: 0\n",
      "_________________________________________________________________\n"
     ]
    }
   ],
   "source": [
    "from keras.models import Model, Input\n",
    "from keras.layers import LSTM, Embedding, Dense, TimeDistributed, Dropout, Bidirectional\n",
    "from keras_contrib.layers import CRF\n",
    "\n",
    "# Model definition\n",
    "input = Input(shape=(MAX_LEN,))\n",
    "model = Embedding(input_dim=n_words+2, output_dim=EMBEDDING, # n_words + 2 (PAD & UNK)  \n",
    "                  input_length=MAX_LEN, mask_zero=True)(input)  # default: 20-dim embedding\n",
    "model = Bidirectional(LSTM(units=50, return_sequences=True,\n",
    "                           recurrent_dropout=0.1))(model)  # variational biLSTM\n",
    "model = TimeDistributed(Dense(50, activation=\"relu\"))(model)  # a dense layer as suggested by neuralNer\n",
    "crf = CRF(n_tags+1)  # CRF layer, n_tags+1(PAD)\n",
    "out = crf(model)  # output\n",
    "\n",
    "model = Model(input, out)\n",
    "model.compile(optimizer=\"rmsprop\", loss=crf.loss_function, metrics=[crf.accuracy])\n",
    "\n",
    "model.summary()"
   ]
  },
  {
   "cell_type": "code",
   "execution_count": 66,
   "metadata": {},
   "outputs": [
    {
     "data": {
      "text/plain": [
       "<tf.Tensor 'crf_1/cond/Merge:0' shape=(?, ?, 21) dtype=float32>"
      ]
     },
     "execution_count": 66,
     "metadata": {},
     "output_type": "execute_result"
    }
   ],
   "source": [
    "out"
   ]
  },
  {
   "cell_type": "markdown",
   "metadata": {},
   "source": [
    "Note: Accuracy isn't the best metric to choose for evaluating this type of task because most of the time it will correctly predict 'O' or 'PAD' without identifing the important Tags, which are the ones we are interested in. So after training for some epochs, we can monitor the precision, recall and f1-score for each of the Tags."
   ]
  },
  {
   "cell_type": "code",
   "execution_count": 54,
   "metadata": {},
   "outputs": [
    {
     "name": "stdout",
     "output_type": "stream",
     "text": [
      "Train on 38848 samples, validate on 4317 samples\n",
      "Epoch 1/5\n",
      " - 167s - loss: 9.5634 - crf_viterbi_accuracy: 0.9067 - val_loss: 9.4503 - val_crf_viterbi_accuracy: 0.9468\n",
      "Epoch 2/5\n",
      " - 164s - loss: 9.3456 - crf_viterbi_accuracy: 0.9574 - val_loss: 9.3973 - val_crf_viterbi_accuracy: 0.9609\n",
      "Epoch 3/5\n",
      " - 162s - loss: 9.3129 - crf_viterbi_accuracy: 0.9667 - val_loss: 9.3829 - val_crf_viterbi_accuracy: 0.9649\n",
      "Epoch 4/5\n",
      " - 161s - loss: 9.3013 - crf_viterbi_accuracy: 0.9700 - val_loss: 9.3782 - val_crf_viterbi_accuracy: 0.9654\n",
      "Epoch 5/5\n",
      " - 161s - loss: 9.2954 - crf_viterbi_accuracy: 0.9719 - val_loss: 9.3746 - val_crf_viterbi_accuracy: 0.9670\n"
     ]
    }
   ],
   "source": [
    "history = model.fit(X_train, np.array(y_train), batch_size=BATCH_SIZE, epochs=EPOCHS,\n",
    "                    validation_split=0.1, verbose=2)"
   ]
  },
  {
   "cell_type": "code",
   "execution_count": 55,
   "metadata": {},
   "outputs": [],
   "source": [
    "# Eval\n",
    "pred_cat = model.predict(X_test)\n",
    "pred = np.argmax(pred_cat, axis=-1)\n",
    "y_test_true = np.argmax(y_test, -1)"
   ]
  },
  {
   "cell_type": "code",
   "execution_count": 56,
   "metadata": {},
   "outputs": [
    {
     "name": "stderr",
     "output_type": "stream",
     "text": [
      "/home/ikscare/anaconda3/envs/py36/lib/python3.6/site-packages/sklearn/metrics/classification.py:1143: UndefinedMetricWarning: Precision and F-score are ill-defined and being set to 0.0 in labels with no predicted samples.\n",
      "  'precision', 'predicted', average, warn_for)\n"
     ]
    },
    {
     "name": "stdout",
     "output_type": "stream",
     "text": [
      "              precision    recall  f1-score   support\n",
      "\n",
      "       B-art       0.00      0.00      0.00        40\n",
      "       B-eve       0.00      0.00      0.00        29\n",
      "       B-geo       0.82      0.90      0.86      3712\n",
      "       B-gpe       0.97      0.92      0.94      1571\n",
      "       B-nat       0.00      0.00      0.00        22\n",
      "       B-org       0.77      0.68      0.72      2037\n",
      "       B-per       0.84      0.79      0.81      1741\n",
      "       B-tim       0.91      0.87      0.89      2066\n",
      "       I-art       0.00      0.00      0.00        28\n",
      "       I-eve       0.00      0.00      0.00        20\n",
      "       I-geo       0.74      0.80      0.77       715\n",
      "       I-gpe       0.89      0.53      0.67        15\n",
      "       I-nat       0.00      0.00      0.00         5\n",
      "       I-org       0.76      0.75      0.75      1731\n",
      "       I-per       0.83      0.89      0.86      1805\n",
      "       I-tim       0.81      0.71      0.76       644\n",
      "           O       0.99      0.99      0.99     88835\n",
      "         PAD       1.00      1.00      1.00    254759\n",
      "\n",
      "   micro avg       0.99      0.99      0.99    359775\n",
      "   macro avg       0.57      0.55      0.56    359775\n",
      "weighted avg       0.99      0.99      0.99    359775\n",
      "\n"
     ]
    }
   ],
   "source": [
    "from sklearn_crfsuite.metrics import flat_classification_report\n",
    "\n",
    "# Convert the index to tag\n",
    "pred_tag = [[idx2tag[i] for i in row] for row in pred]\n",
    "y_test_true_tag = [[idx2tag[i] for i in row] for row in y_test_true] \n",
    "\n",
    "report = flat_classification_report(y_pred=pred_tag, y_true=y_test_true_tag)\n",
    "print(report)"
   ]
  },
  {
   "cell_type": "code",
   "execution_count": 57,
   "metadata": {},
   "outputs": [
    {
     "name": "stdout",
     "output_type": "stream",
     "text": [
      "Sample number 1536 of 4797 (Test Set)\n",
      "Word           ||True ||Pred\n",
      "==============================\n",
      "European       : B-org B-org\n",
      "Union          : I-org I-org\n",
      "foreign        : O     O\n",
      "ministers      : O     O\n",
      "are            : O     O\n",
      "meeting        : O     O\n",
      "in             : O     O\n",
      "Brussels       : B-geo B-geo\n",
      "to             : O     O\n",
      "discuss        : O     O\n",
      "support        : O     O\n",
      "for            : O     O\n",
      "an             : O     O\n",
      "emerging       : O     O\n",
      "Palestinian    : B-gpe B-gpe\n",
      "unity          : O     O\n",
      "government     : O     O\n",
      "that           : O     O\n",
      "could          : O     O\n",
      "replace        : O     O\n",
      "the            : O     O\n",
      "current        : O     O\n",
      "Hamas-led      : O     O\n",
      "one            : O     O\n",
      ".              : O     O\n"
     ]
    }
   ],
   "source": [
    "i = np.random.randint(0,X_test.shape[0]) # choose a random number between 0 and len(X_te)\n",
    "p = model.predict(np.array([X_test[i]]))\n",
    "p = np.argmax(p, axis=-1)\n",
    "true = np.argmax(y_test[i], -1)\n",
    "\n",
    "print(\"Sample number {} of {} (Test Set)\".format(i, X_test.shape[0]))\n",
    "# Visualization\n",
    "print(\"{:15}||{:5}||{}\".format(\"Word\", \"True\", \"Pred\"))\n",
    "print(30 * \"=\")\n",
    "for w, t, pred in zip(X_test[i], true, p[0]):\n",
    "    if w != 0:\n",
    "        print(\"{:15}: {:5} {}\".format(words[w-2], idx2tag[t], idx2tag[pred]))"
   ]
  },
  {
   "cell_type": "code",
   "execution_count": 58,
   "metadata": {
    "collapsed": true
   },
   "outputs": [
    {
     "name": "stdout",
     "output_type": "stream",
     "text": [
      "Collecting ipywidgets\n",
      "\u001b[?25l  Downloading https://files.pythonhosted.org/packages/30/9a/a008c7b1183fac9e52066d80a379b3c64eab535bd9d86cdc29a0b766fd82/ipywidgets-7.4.2-py2.py3-none-any.whl (111kB)\n",
      "\u001b[K    100% |████████████████████████████████| 112kB 291kB/s ta 0:00:01\n",
      "\u001b[?25hCollecting widgetsnbextension~=3.4.0 (from ipywidgets)\n",
      "\u001b[?25l  Downloading https://files.pythonhosted.org/packages/8a/81/35789a3952afb48238289171728072d26d6e76649ddc8b3588657a2d78c1/widgetsnbextension-3.4.2-py2.py3-none-any.whl (2.2MB)\n",
      "\u001b[K    100% |████████████████████████████████| 2.2MB 365kB/s ta 0:00:01\n",
      "\u001b[?25hRequirement already satisfied: ipython>=4.0.0; python_version >= \"3.3\" in /home/ikscare/anaconda3/envs/py36/lib/python3.6/site-packages (from ipywidgets) (7.2.0)\n",
      "Requirement already satisfied: traitlets>=4.3.1 in /home/ikscare/anaconda3/envs/py36/lib/python3.6/site-packages (from ipywidgets) (4.3.2)\n",
      "Requirement already satisfied: nbformat>=4.2.0 in /home/ikscare/anaconda3/envs/py36/lib/python3.6/site-packages (from ipywidgets) (4.4.0)\n",
      "Requirement already satisfied: ipykernel>=4.5.1 in /home/ikscare/anaconda3/envs/py36/lib/python3.6/site-packages (from ipywidgets) (5.1.0)\n",
      "Requirement already satisfied: notebook>=4.4.1 in /home/ikscare/anaconda3/envs/py36/lib/python3.6/site-packages (from widgetsnbextension~=3.4.0->ipywidgets) (5.7.4)\n",
      "Requirement already satisfied: prompt-toolkit<2.1.0,>=2.0.0 in /home/ikscare/anaconda3/envs/py36/lib/python3.6/site-packages (from ipython>=4.0.0; python_version >= \"3.3\"->ipywidgets) (2.0.7)\n",
      "Requirement already satisfied: pygments in /home/ikscare/anaconda3/envs/py36/lib/python3.6/site-packages (from ipython>=4.0.0; python_version >= \"3.3\"->ipywidgets) (2.3.1)\n",
      "Requirement already satisfied: pexpect; sys_platform != \"win32\" in /home/ikscare/anaconda3/envs/py36/lib/python3.6/site-packages (from ipython>=4.0.0; python_version >= \"3.3\"->ipywidgets) (4.6.0)\n",
      "Requirement already satisfied: jedi>=0.10 in /home/ikscare/anaconda3/envs/py36/lib/python3.6/site-packages (from ipython>=4.0.0; python_version >= \"3.3\"->ipywidgets) (0.13.2)\n",
      "Requirement already satisfied: setuptools>=18.5 in /home/ikscare/anaconda3/envs/py36/lib/python3.6/site-packages (from ipython>=4.0.0; python_version >= \"3.3\"->ipywidgets) (40.6.3)\n",
      "Requirement already satisfied: backcall in /home/ikscare/anaconda3/envs/py36/lib/python3.6/site-packages (from ipython>=4.0.0; python_version >= \"3.3\"->ipywidgets) (0.1.0)\n",
      "Requirement already satisfied: decorator in /home/ikscare/anaconda3/envs/py36/lib/python3.6/site-packages (from ipython>=4.0.0; python_version >= \"3.3\"->ipywidgets) (4.3.0)\n",
      "Requirement already satisfied: pickleshare in /home/ikscare/anaconda3/envs/py36/lib/python3.6/site-packages (from ipython>=4.0.0; python_version >= \"3.3\"->ipywidgets) (0.7.5)\n",
      "Requirement already satisfied: six in /home/ikscare/anaconda3/envs/py36/lib/python3.6/site-packages (from traitlets>=4.3.1->ipywidgets) (1.12.0)\n",
      "Requirement already satisfied: ipython-genutils in /home/ikscare/anaconda3/envs/py36/lib/python3.6/site-packages (from traitlets>=4.3.1->ipywidgets) (0.2.0)\n",
      "Requirement already satisfied: jupyter-core in /home/ikscare/anaconda3/envs/py36/lib/python3.6/site-packages (from nbformat>=4.2.0->ipywidgets) (4.4.0)\n",
      "Requirement already satisfied: jsonschema!=2.5.0,>=2.4 in /home/ikscare/anaconda3/envs/py36/lib/python3.6/site-packages (from nbformat>=4.2.0->ipywidgets) (2.6.0)\n",
      "Requirement already satisfied: tornado>=4.2 in /home/ikscare/anaconda3/envs/py36/lib/python3.6/site-packages (from ipykernel>=4.5.1->ipywidgets) (5.1.1)\n",
      "Requirement already satisfied: jupyter-client in /home/ikscare/anaconda3/envs/py36/lib/python3.6/site-packages (from ipykernel>=4.5.1->ipywidgets) (5.2.4)\n",
      "Requirement already satisfied: Send2Trash in /home/ikscare/anaconda3/envs/py36/lib/python3.6/site-packages (from notebook>=4.4.1->widgetsnbextension~=3.4.0->ipywidgets) (1.5.0)\n",
      "Requirement already satisfied: jinja2 in /home/ikscare/anaconda3/envs/py36/lib/python3.6/site-packages (from notebook>=4.4.1->widgetsnbextension~=3.4.0->ipywidgets) (2.10)\n",
      "Requirement already satisfied: nbconvert in /home/ikscare/anaconda3/envs/py36/lib/python3.6/site-packages (from notebook>=4.4.1->widgetsnbextension~=3.4.0->ipywidgets) (5.3.1)\n",
      "Requirement already satisfied: pyzmq>=17 in /home/ikscare/anaconda3/envs/py36/lib/python3.6/site-packages (from notebook>=4.4.1->widgetsnbextension~=3.4.0->ipywidgets) (17.1.2)\n",
      "Requirement already satisfied: terminado>=0.8.1 in /home/ikscare/anaconda3/envs/py36/lib/python3.6/site-packages (from notebook>=4.4.1->widgetsnbextension~=3.4.0->ipywidgets) (0.8.1)\n",
      "Requirement already satisfied: prometheus-client in /home/ikscare/anaconda3/envs/py36/lib/python3.6/site-packages (from notebook>=4.4.1->widgetsnbextension~=3.4.0->ipywidgets) (0.5.0)\n",
      "Requirement already satisfied: wcwidth in /home/ikscare/anaconda3/envs/py36/lib/python3.6/site-packages (from prompt-toolkit<2.1.0,>=2.0.0->ipython>=4.0.0; python_version >= \"3.3\"->ipywidgets) (0.1.7)\n",
      "Requirement already satisfied: ptyprocess>=0.5 in /home/ikscare/anaconda3/envs/py36/lib/python3.6/site-packages (from pexpect; sys_platform != \"win32\"->ipython>=4.0.0; python_version >= \"3.3\"->ipywidgets) (0.6.0)\n",
      "Requirement already satisfied: parso>=0.3.0 in /home/ikscare/anaconda3/envs/py36/lib/python3.6/site-packages (from jedi>=0.10->ipython>=4.0.0; python_version >= \"3.3\"->ipywidgets) (0.3.1)\n",
      "Requirement already satisfied: python-dateutil>=2.1 in /home/ikscare/anaconda3/envs/py36/lib/python3.6/site-packages (from jupyter-client->ipykernel>=4.5.1->ipywidgets) (2.7.5)\n",
      "Requirement already satisfied: MarkupSafe>=0.23 in /home/ikscare/anaconda3/envs/py36/lib/python3.6/site-packages (from jinja2->notebook>=4.4.1->widgetsnbextension~=3.4.0->ipywidgets) (1.1.0)\n",
      "Requirement already satisfied: mistune>=0.7.4 in /home/ikscare/anaconda3/envs/py36/lib/python3.6/site-packages (from nbconvert->notebook>=4.4.1->widgetsnbextension~=3.4.0->ipywidgets) (0.8.4)\n",
      "Requirement already satisfied: bleach in /home/ikscare/anaconda3/envs/py36/lib/python3.6/site-packages (from nbconvert->notebook>=4.4.1->widgetsnbextension~=3.4.0->ipywidgets) (3.0.2)\n",
      "Requirement already satisfied: testpath in /home/ikscare/anaconda3/envs/py36/lib/python3.6/site-packages (from nbconvert->notebook>=4.4.1->widgetsnbextension~=3.4.0->ipywidgets) (0.4.2)\n",
      "Requirement already satisfied: entrypoints>=0.2.2 in /home/ikscare/anaconda3/envs/py36/lib/python3.6/site-packages (from nbconvert->notebook>=4.4.1->widgetsnbextension~=3.4.0->ipywidgets) (0.2.3)\n",
      "Requirement already satisfied: pandocfilters>=1.4.1 in /home/ikscare/anaconda3/envs/py36/lib/python3.6/site-packages (from nbconvert->notebook>=4.4.1->widgetsnbextension~=3.4.0->ipywidgets) (1.4.2)\n",
      "Requirement already satisfied: webencodings in /home/ikscare/anaconda3/envs/py36/lib/python3.6/site-packages (from bleach->nbconvert->notebook>=4.4.1->widgetsnbextension~=3.4.0->ipywidgets) (0.5.1)\n",
      "Installing collected packages: widgetsnbextension, ipywidgets\n",
      "Successfully installed ipywidgets-7.4.2 widgetsnbextension-3.4.2\n"
     ]
    }
   ],
   "source": [
    "!pip install ipywidgets"
   ]
  },
  {
   "cell_type": "code",
   "execution_count": null,
   "metadata": {},
   "outputs": [],
   "source": [
    "!jupyter nbextension enable --py widgetsnbextension"
   ]
  },
  {
   "cell_type": "code",
   "execution_count": 59,
   "metadata": {},
   "outputs": [],
   "source": [
    "from ipywidgets import interact_manual\n",
    "from ipywidgets import widgets"
   ]
  },
  {
   "cell_type": "code",
   "execution_count": 60,
   "metadata": {},
   "outputs": [],
   "source": [
    "import re\n",
    "import string\n",
    "\n",
    "# Custom Tokenizer\n",
    "re_tok = re.compile(f'([{string.punctuation}“”¨«»®´·º½¾¿¡§£₤‘’])')\n",
    "\n",
    "def tokenize(s): \n",
    "    return re_tok.sub(r' \\1 ', s).split()"
   ]
  },
  {
   "cell_type": "code",
   "execution_count": 61,
   "metadata": {},
   "outputs": [],
   "source": [
    "def get_prediction(sentence):\n",
    "    test_sentence = tokenize(sentence) # Tokenization\n",
    "    # Preprocessing\n",
    "    x_test_sent = pad_sequences(sequences=[[word2idx.get(w, 0) for w in test_sentence]],\n",
    "                            padding=\"post\", value=word2idx[\"PAD\"], maxlen=MAX_LEN)\n",
    "    # Evaluation\n",
    "    p = model.predict(np.array([x_test_sent[0]]))\n",
    "    p = np.argmax(p, axis=-1)\n",
    "    # Visualization\n",
    "    print(\"{:15}||{}\".format(\"Word\", \"Prediction\"))\n",
    "    print(30 * \"=\")\n",
    "    for w, pred in zip(test_sentence, p[0]):\n",
    "        print(\"{:15}: {:5}\".format(w, idx2tag[pred]))"
   ]
  },
  {
   "cell_type": "code",
   "execution_count": 62,
   "metadata": {},
   "outputs": [
    {
     "data": {
      "application/vnd.jupyter.widget-view+json": {
       "model_id": "40c7d7413db54e41962e57f634eaccbc",
       "version_major": 2,
       "version_minor": 0
      },
      "text/plain": [
       "interactive(children=(Textarea(value='', description='sentence', placeholder='Type your sentence here'), Butto…"
      ]
     },
     "metadata": {},
     "output_type": "display_data"
    },
    {
     "data": {
      "text/plain": [
       "<function __main__.get_prediction(sentence)>"
      ]
     },
     "execution_count": 62,
     "metadata": {},
     "output_type": "execute_result"
    }
   ],
   "source": [
    "interact_manual(get_prediction, sentence=widgets.Textarea(placeholder='Type your sentence here'))"
   ]
  },
  {
   "cell_type": "code",
   "execution_count": 63,
   "metadata": {},
   "outputs": [
    {
     "name": "stdout",
     "output_type": "stream",
     "text": [
      "Word           ||Prediction\n",
      "==============================\n",
      "Obama          : B-per\n",
      "was            : O    \n",
      "the            : O    \n",
      "president      : O    \n",
      "of             : O    \n",
      "USA            : B-org\n",
      ".              : O    \n"
     ]
    }
   ],
   "source": [
    "get_prediction(\"Obama was the president of USA.\")"
   ]
  },
  {
   "cell_type": "code",
   "execution_count": null,
   "metadata": {},
   "outputs": [],
   "source": [
    "get_prediction(\"The 1906 San Francisco earthquake was the biggest earthquake that has ever hit San Francisco on April 18, 1906\")"
   ]
  },
  {
   "cell_type": "code",
   "execution_count": null,
   "metadata": {},
   "outputs": [],
   "source": [
    "get_prediction(\"Next Monday is Christmas!\")"
   ]
  },
  {
   "cell_type": "code",
   "execution_count": null,
   "metadata": {},
   "outputs": [],
   "source": [
    "get_prediction(\"al Qaeda is a terrorist organization\")"
   ]
  },
  {
   "cell_type": "code",
   "execution_count": null,
   "metadata": {},
   "outputs": [],
   "source": [
    "get_prediction(\"President Nasser presided over the audience\")"
   ]
  },
  {
   "cell_type": "code",
   "execution_count": null,
   "metadata": {},
   "outputs": [],
   "source": [
    "get_prediction(\"John Smith works at the United Nations every Saturday\")"
   ]
  },
  {
   "cell_type": "code",
   "execution_count": null,
   "metadata": {},
   "outputs": [],
   "source": [
    "get_prediction(\"Andy Garcia works at the United Nations every Saturday\")"
   ]
  },
  {
   "cell_type": "code",
   "execution_count": 64,
   "metadata": {},
   "outputs": [
    {
     "name": "stdout",
     "output_type": "stream",
     "text": [
      "Word           ||Prediction\n",
      "==============================\n",
      "Gregory        : B-per\n",
      "M              : I-per\n",
      "Cowan          : I-per\n",
      "is             : O    \n",
      "an             : O    \n",
      "Immunologist   : O    \n",
      "at             : O    \n",
      "Fortis         : B-geo\n",
      "Hospital       : I-geo\n"
     ]
    }
   ],
   "source": [
    "get_prediction(\"Gregory M Cowan is an Immunologist at Fortis Hospital\")"
   ]
  },
  {
   "cell_type": "code",
   "execution_count": null,
   "metadata": {},
   "outputs": [],
   "source": [
    "get_prediction(\"Debra H Mescher is an Internist\")"
   ]
  },
  {
   "cell_type": "code",
   "execution_count": null,
   "metadata": {},
   "outputs": [],
   "source": [
    "str = (\"Colonoscopy Sigmoidoscopy Large Bowel Polyps Diverticulitis Crohn Gastritis Enteroscopy Colon Endoscope \"\n",
    "\"Patient Name :  Pamela Woodard \"\n",
    "\"DOB : 11/09/1996 \" \n",
    "\"Date : 21/10/18 \"\n",
    "\"Order orders Appointment Schedule Requesting Provider Physician Prescriber Surgery Clearance Medical clearance Supply Supplies \"\n",
    "\"Christian Chu  MD \"\n",
    "\"WeServeEveryone Clinic\")\n",
    "\n",
    "get_prediction(str)"
   ]
  },
  {
   "cell_type": "code",
   "execution_count": null,
   "metadata": {},
   "outputs": [],
   "source": []
  }
 ],
 "metadata": {
  "kernelspec": {
   "display_name": "Python [conda env:py36]",
   "language": "python",
   "name": "conda-env-py36-py"
  },
  "language_info": {
   "codemirror_mode": {
    "name": "ipython",
    "version": 3
   },
   "file_extension": ".py",
   "mimetype": "text/x-python",
   "name": "python",
   "nbconvert_exporter": "python",
   "pygments_lexer": "ipython3",
   "version": "3.6.8"
  }
 },
 "nbformat": 4,
 "nbformat_minor": 2
}
